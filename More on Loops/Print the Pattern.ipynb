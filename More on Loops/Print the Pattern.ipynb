{
 "cells": [
  {
   "cell_type": "markdown",
   "metadata": {},
   "source": [
    "Print the Pattern"
   ]
  },
  {
   "cell_type": "markdown",
   "metadata": {},
   "source": [
    "1 2 3 4 5    \n",
    "11 12 13 14 15    \n",
    "21 22 23 24 25    \n",
    "16 17 18 19 20    \n",
    "6 7 8 9 10    "
   ]
  },
  {
   "cell_type": "code",
   "execution_count": null,
   "metadata": {},
   "outputs": [],
   "source": [
    "n = int(input()) \n",
    "startValue = 1\n",
    "for i in range(1,n+1): \n",
    "    for j in range(startValue,startValue + n):\n",
    "        print(j,end=\" \")\n",
    "    print()\n",
    "    if(i==((n+1)//2)):\n",
    "        if((n%2)!=0):\n",
    "            startValue = n*(n-2)+1\n",
    "        else:\n",
    "            startValue = n*(n-1) + 1\n",
    "    elif((i>(n+1)//2)):\n",
    "        startValue = startValue - 2*n\n",
    "    else:\n",
    "        startValue = startValue + 2*n "
   ]
  }
 ],
 "metadata": {
  "kernelspec": {
   "display_name": "Python 3.10.8 64-bit (microsoft store)",
   "language": "python",
   "name": "python3"
  },
  "language_info": {
   "codemirror_mode": {
    "name": "ipython",
    "version": 3
   },
   "file_extension": ".py",
   "mimetype": "text/x-python",
   "name": "python",
   "nbconvert_exporter": "python",
   "pygments_lexer": "ipython3",
   "version": "3.10.8"
  },
  "orig_nbformat": 4,
  "vscode": {
   "interpreter": {
    "hash": "cde863bc7cf210e6ac261459ce91b5eb1caa9f4f90b697e3ad9dc04fa707f48f"
   }
  }
 },
 "nbformat": 4,
 "nbformat_minor": 2
}
