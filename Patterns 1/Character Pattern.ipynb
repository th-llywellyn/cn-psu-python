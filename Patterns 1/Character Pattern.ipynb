{
 "cells": [
  {
   "cell_type": "markdown",
   "metadata": {},
   "source": [
    "Character Pattern"
   ]
  },
  {
   "cell_type": "code",
   "execution_count": null,
   "metadata": {},
   "outputs": [],
   "source": [
    "n=int(input())\n",
    "i=1\n",
    "while i<=n:\n",
    "    j=1\n",
    "    asc=ord('A')\n",
    "    while j<=i:\n",
    "        pp=asc+i-1\n",
    "        p=chr(pp+j-1)\n",
    "        print(p,end='')\n",
    "        j+=1\n",
    "    print()\n",
    "    asc+=1\n",
    "    i+=1"
   ]
  }
 ],
 "metadata": {
  "language_info": {
   "name": "python"
  },
  "orig_nbformat": 4
 },
 "nbformat": 4,
 "nbformat_minor": 2
}
