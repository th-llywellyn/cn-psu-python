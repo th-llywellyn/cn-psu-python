{
 "cells": [
  {
   "cell_type": "markdown",
   "metadata": {},
   "source": [
    "Number Pattern "
   ]
  },
  {
   "cell_type": "markdown",
   "metadata": {},
   "source": [
    "1234   \n",
    "123   \n",
    "12   \n",
    "1"
   ]
  },
  {
   "cell_type": "code",
   "execution_count": 1,
   "metadata": {},
   "outputs": [
    {
     "name": "stdout",
     "output_type": "stream",
     "text": [
      "1234\n",
      "123\n",
      "12\n",
      "1\n"
     ]
    }
   ],
   "source": [
    "n=int(input())\n",
    "i=1\n",
    "while i<=n:\n",
    "    j=1\n",
    "    while j<=n-i+1:                                                                                \n",
    "        print(j,end ='')            \n",
    "        j=j+1\n",
    "    print()\n",
    "    i=i+1"
   ]
  }
 ],
 "metadata": {
  "kernelspec": {
   "display_name": "Python 3.10.8 64-bit (microsoft store)",
   "language": "python",
   "name": "python3"
  },
  "language_info": {
   "codemirror_mode": {
    "name": "ipython",
    "version": 3
   },
   "file_extension": ".py",
   "mimetype": "text/x-python",
   "name": "python",
   "nbconvert_exporter": "python",
   "pygments_lexer": "ipython3",
   "version": "3.10.8"
  },
  "orig_nbformat": 4,
  "vscode": {
   "interpreter": {
    "hash": "cde863bc7cf210e6ac261459ce91b5eb1caa9f4f90b697e3ad9dc04fa707f48f"
   }
  }
 },
 "nbformat": 4,
 "nbformat_minor": 2
}
