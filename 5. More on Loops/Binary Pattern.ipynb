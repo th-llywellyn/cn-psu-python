{
 "cells": [
  {
   "cell_type": "markdown",
   "metadata": {},
   "source": [
    "Binary Pattern"
   ]
  },
  {
   "cell_type": "code",
   "execution_count": null,
   "metadata": {},
   "outputs": [],
   "source": [
    "n=int(input())\n",
    "for i in range(1,n+1):\n",
    "    for l in range(n+2-2*i,0,-1):\n",
    "        print(1,end=\"\")\n",
    "    print()\n",
    "    for j in range (n+1-2*i,0,-1):\n",
    "        print(0,end=\"\")\n",
    "    print()"
   ]
  }
 ],
 "metadata": {
  "language_info": {
   "name": "python"
  },
  "orig_nbformat": 4
 },
 "nbformat": 4,
 "nbformat_minor": 2
}
