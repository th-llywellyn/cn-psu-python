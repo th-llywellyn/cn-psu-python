{
 "cells": [
  {
   "cell_type": "markdown",
   "metadata": {},
   "source": [
    "Rectangular numbers"
   ]
  },
  {
   "cell_type": "markdown",
   "metadata": {},
   "source": [
    "4444444   \n",
    "4333334   \n",
    "4322234   \n",
    "4321234   \n",
    "4322234   \n",
    "4333334   \n",
    "4444444   "
   ]
  },
  {
   "cell_type": "code",
   "execution_count": null,
   "metadata": {},
   "outputs": [],
   "source": [
    "\n",
    "n = int(input())\n",
    "for i in range(1,n+1):\n",
    "    temp = n\n",
    "    for j in range(1,i):\n",
    "        print(temp,end=\"\")\n",
    "        temp = temp -1\n",
    "    for j in range(1,(2*n) - (2*i) + 2):\n",
    "        print(n-i+1,end=\"\")\n",
    "    for j in range(1,i):\n",
    "        temp = temp+1\n",
    "        print(temp,end=\"\")\n",
    "    print()\n",
    "for i in range(n-1,0,-1):\n",
    "    temp = n\n",
    "    for j in range(1,i):\n",
    "        print(temp,end=\"\")\n",
    "        temp = temp - 1 \n",
    "    for j in range(1,(2*n) - (2*i) + 2):\n",
    "        print(n-i+1,end=\"\")\n",
    "    for j in range(1,i):\n",
    "        temp = temp+1\n",
    "        print(temp,end=\"\")\n",
    "    print()\n"
   ]
  }
 ],
 "metadata": {
  "kernelspec": {
   "display_name": "Python 3.10.8 64-bit (microsoft store)",
   "language": "python",
   "name": "python3"
  },
  "language_info": {
   "codemirror_mode": {
    "name": "ipython",
    "version": 3
   },
   "file_extension": ".py",
   "mimetype": "text/x-python",
   "name": "python",
   "nbconvert_exporter": "python",
   "pygments_lexer": "ipython3",
   "version": "3.10.8"
  },
  "orig_nbformat": 4,
  "vscode": {
   "interpreter": {
    "hash": "cde863bc7cf210e6ac261459ce91b5eb1caa9f4f90b697e3ad9dc04fa707f48f"
   }
  }
 },
 "nbformat": 4,
 "nbformat_minor": 2
}
