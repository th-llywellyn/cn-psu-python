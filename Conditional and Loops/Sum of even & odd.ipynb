{
 "cells": [
  {
   "cell_type": "markdown",
   "metadata": {},
   "source": [
    "Sum of even & odd"
   ]
  },
  {
   "cell_type": "markdown",
   "metadata": {},
   "source": [
    "Digits mean numbers, not the places! That is, if the given integer is \"13245\", even digits are 2 & 4 and odd digits are 1, 3 & 5."
   ]
  },
  {
   "cell_type": "code",
   "execution_count": null,
   "metadata": {},
   "outputs": [],
   "source": [
    "n=input()\n",
    "le=len(n)\n",
    "n=int(n)\n",
    "sum_even=0\n",
    "sum_odd=0\n",
    "for i in range(1,le+1):\n",
    "   if((n%10)%2==0):\n",
    "           sum_even+=n%10\n",
    "   else:\n",
    "           sum_odd+=n%10\n",
    "   n=n//(10)\n",
    "print(sum_even,' ',sum_odd)"
   ]
  }
 ],
 "metadata": {
  "language_info": {
   "name": "python"
  },
  "orig_nbformat": 4
 },
 "nbformat": 4,
 "nbformat_minor": 2
}
