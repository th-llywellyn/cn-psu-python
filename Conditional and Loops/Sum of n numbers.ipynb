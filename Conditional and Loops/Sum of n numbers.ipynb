{
 "cells": [
  {
   "cell_type": "markdown",
   "metadata": {},
   "source": [
    "Sum of N numbers"
   ]
  },
  {
   "cell_type": "code",
   "execution_count": null,
   "metadata": {},
   "outputs": [],
   "source": [
    "n=int(input())\n",
    "sum=0\n",
    "while n>0:\n",
    "    sum +=n\n",
    "    n-=1\n",
    "print(sum)"
   ]
  }
 ],
 "metadata": {
  "kernelspec": {
   "display_name": "Python 3.10.8 64-bit (microsoft store)",
   "language": "python",
   "name": "python3"
  },
  "language_info": {
   "name": "python",
   "version": "3.10.8"
  },
  "orig_nbformat": 4,
  "vscode": {
   "interpreter": {
    "hash": "cde863bc7cf210e6ac261459ce91b5eb1caa9f4f90b697e3ad9dc04fa707f48f"
   }
  }
 },
 "nbformat": 4,
 "nbformat_minor": 2
}
