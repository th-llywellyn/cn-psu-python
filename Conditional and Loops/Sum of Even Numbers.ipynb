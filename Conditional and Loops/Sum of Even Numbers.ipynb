{
 "cells": [
  {
   "cell_type": "markdown",
   "metadata": {},
   "source": [
    "Sum of Even Numbers"
   ]
  },
  {
   "cell_type": "code",
   "execution_count": null,
   "metadata": {},
   "outputs": [],
   "source": [
    "n=int(input())\n",
    "total=0\n",
    "\n",
    "for i in range(1, n + 1):\n",
    "\n",
    "    # Check for even or not.\n",
    "    if((i % 2) == 0):\n",
    "        total = total + i\n",
    "print(total)"
   ]
  }
 ],
 "metadata": {
  "language_info": {
   "name": "python"
  },
  "orig_nbformat": 4
 },
 "nbformat": 4,
 "nbformat_minor": 2
}
