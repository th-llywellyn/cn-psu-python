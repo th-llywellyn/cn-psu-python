{
 "cells": [
  {
   "cell_type": "markdown",
   "metadata": {},
   "source": [
    "Reverse of a number"
   ]
  },
  {
   "cell_type": "markdown",
   "metadata": {},
   "source": [
    " Note:\n",
    " If a number has trailing zeros, then its reverse will not include them. For e.g., reverse of 10400 will be 401 instead of 00401"
   ]
  },
  {
   "cell_type": "code",
   "execution_count": null,
   "metadata": {},
   "outputs": [],
   "source": [
    "n = int(input())\n",
    "\n",
    "# converting number to string\n",
    "string = str(n)\n",
    "\n",
    "# reversing the string\n",
    "string = list(string)\n",
    "string.reverse()\n",
    "string = ''.join(string)\n",
    "\n",
    "#converting string to integer\n",
    "n = int(string)\n",
    "\n",
    "# returning integer\n",
    "print(n)"
   ]
  }
 ],
 "metadata": {
  "language_info": {
   "name": "python"
  },
  "orig_nbformat": 4
 },
 "nbformat": 4,
 "nbformat_minor": 2
}
