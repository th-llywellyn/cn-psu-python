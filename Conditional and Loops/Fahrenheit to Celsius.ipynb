{
 "cells": [
  {
   "cell_type": "markdown",
   "metadata": {},
   "source": [
    "Fahrenheit to Celsius"
   ]
  },
  {
   "cell_type": "code",
   "execution_count": null,
   "metadata": {},
   "outputs": [],
   "source": [
    "s=int(input())\n",
    "e=int(input())\n",
    "w=int(input())\n",
    "\n",
    "while True:\n",
    "   c=0\n",
    "   if s<=e:\n",
    "       c=(s-32)*5/9\n",
    "       print(s,int(c))\n",
    "       s = s + w\n",
    "   else:\n",
    "    break"
   ]
  }
 ],
 "metadata": {
  "language_info": {
   "name": "python"
  },
  "orig_nbformat": 4
 },
 "nbformat": 4,
 "nbformat_minor": 2
}
