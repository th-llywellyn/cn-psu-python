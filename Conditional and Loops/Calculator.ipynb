{
 "cells": [
  {
   "cell_type": "markdown",
   "metadata": {},
   "source": [
    "Calculator"
   ]
  },
  {
   "cell_type": "code",
   "execution_count": null,
   "metadata": {},
   "outputs": [],
   "source": [
    "while True:\n",
    "    opt=int(input())\n",
    "\n",
    "    if opt==1:\n",
    "        n1=int(input())\n",
    "        n2=int(input())\n",
    "        print(n1+n2)\n",
    "    elif opt==2:\n",
    "        n1=int(input())\n",
    "        n2=int(input())\n",
    "        \n",
    "        print(n1-n2)\n",
    "    elif opt==3:\n",
    "        n1=int(input())\n",
    "        n2=int(input())\n",
    "        \n",
    "        print(n1*n2)\n",
    "    elif opt==4:\n",
    "        n1=int(input())\n",
    "        n2=int(input())\n",
    "        \n",
    "        print(n1//n2)\n",
    "    elif opt==5:\n",
    "        n1=int(input())\n",
    "        n2=int(input())\n",
    "        \n",
    "        print(n1%n2)\n",
    "    elif opt==6:\n",
    "        exit()\n",
    "    else:\n",
    "        print('Invalid Operation')"
   ]
  }
 ],
 "metadata": {
  "language_info": {
   "name": "python"
  },
  "orig_nbformat": 4
 },
 "nbformat": 4,
 "nbformat_minor": 2
}
