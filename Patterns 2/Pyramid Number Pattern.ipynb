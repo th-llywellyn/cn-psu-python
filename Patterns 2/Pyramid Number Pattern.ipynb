{
 "cells": [
  {
   "cell_type": "markdown",
   "metadata": {},
   "source": [
    "Pyramid Number Patterns"
   ]
  },
  {
   "cell_type": "code",
   "execution_count": null,
   "metadata": {},
   "outputs": [],
   "source": [
    "n = int(input())\n",
    "i = 1\n",
    "s = n - 1\n",
    "for j in range(1, n + 1):\n",
    "    i = j\n",
    "    for k in range(1, s + 1):\n",
    "        print(\" \", end=\"\")\n",
    "    s = s - 1\n",
    "\n",
    "    for k in range(1, j + 1):\n",
    "        print(i, end=\"\")\n",
    "        i-=1\n",
    "    i=2\n",
    "    for k in range(1, j):\n",
    "        print(i, end=\"\")\n",
    "        i+=1\n",
    "\n",
    "    print()"
   ]
  }
 ],
 "metadata": {
  "kernelspec": {
   "display_name": "Python 3.10.8 64-bit (microsoft store)",
   "language": "python",
   "name": "python3"
  },
  "language_info": {
   "name": "python",
   "version": "3.10.8"
  },
  "orig_nbformat": 4,
  "vscode": {
   "interpreter": {
    "hash": "cde863bc7cf210e6ac261459ce91b5eb1caa9f4f90b697e3ad9dc04fa707f48f"
   }
  }
 },
 "nbformat": 4,
 "nbformat_minor": 2
}
