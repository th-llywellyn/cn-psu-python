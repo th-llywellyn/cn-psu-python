{
 "cells": [
  {
   "cell_type": "markdown",
   "metadata": {},
   "source": [
    "Diamond of Stars"
   ]
  },
  {
   "cell_type": "code",
   "execution_count": null,
   "metadata": {},
   "outputs": [],
   "source": [
    "n=int(input())\n",
    "top=(n+1)//2\n",
    "bott=(n)//2\n",
    "\n",
    "#First Half\n",
    "i=1\n",
    "while i<=top:\n",
    "    s=1\n",
    "    while s<=(top-i):\n",
    "        print(' ',end=\"\")\n",
    "        s+=1\n",
    "    j=1\n",
    "    while j<=(2*i)-1:\n",
    "        print(\"*\",end=\"\")\n",
    "        j+=1\n",
    "    print()\n",
    "    i+=1\n",
    "\n",
    "#Secound Half\n",
    "i=bott\n",
    "while i>=1:\n",
    "    s=1\n",
    "    while s<=(bott-i+1):\n",
    "        print(\" \",end=\"\")\n",
    "        s+=1\n",
    "    j=1\n",
    "    while j<=(2*i)-1:\n",
    "        print(\"*\",end=\"\")\n",
    "        j+=1\n",
    "    print()\n",
    "    i-=1"
   ]
  }
 ],
 "metadata": {
  "kernelspec": {
   "display_name": "Python 3.10.8 64-bit (microsoft store)",
   "language": "python",
   "name": "python3"
  },
  "language_info": {
   "name": "python",
   "version": "3.10.8"
  },
  "orig_nbformat": 4,
  "vscode": {
   "interpreter": {
    "hash": "cde863bc7cf210e6ac261459ce91b5eb1caa9f4f90b697e3ad9dc04fa707f48f"
   }
  }
 },
 "nbformat": 4,
 "nbformat_minor": 2
}
