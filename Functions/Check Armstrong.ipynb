{
 "cells": [
  {
   "cell_type": "markdown",
   "metadata": {},
   "source": [
    "Check Armstrong"
   ]
  },
  {
   "cell_type": "code",
   "execution_count": null,
   "metadata": {},
   "outputs": [],
   "source": [
    "\n",
    "def checkArmstrong(n):\n",
    "    no_of_digits=0\n",
    "    org_n=n\n",
    "    orginal_no=n\n",
    "    Armstrong=0\n",
    "    while n>0:\n",
    "        no_of_digits+=1\n",
    "        n=n//10\n",
    "    while org_n>0:\n",
    "        Last_Digit = org_n % 10\n",
    "        Armstrong  = Armstrong  + ((Last_Digit)**(no_of_digits))\n",
    "        org_n = (org_n //10)\n",
    "    if orginal_no==Armstrong:\n",
    "        print(\"true\")\n",
    "    else:\n",
    "        print(\"false\")\n",
    "\n",
    "n=int(input())\n",
    "checkArmstrong(n)"
   ]
  }
 ],
 "metadata": {
  "kernelspec": {
   "display_name": "Python 3.10.8 64-bit (microsoft store)",
   "language": "python",
   "name": "python3"
  },
  "language_info": {
   "name": "python",
   "version": "3.10.8"
  },
  "orig_nbformat": 4,
  "vscode": {
   "interpreter": {
    "hash": "cde863bc7cf210e6ac261459ce91b5eb1caa9f4f90b697e3ad9dc04fa707f48f"
   }
  }
 },
 "nbformat": 4,
 "nbformat_minor": 2
}
