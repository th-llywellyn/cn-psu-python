{
 "cells": [
  {
   "cell_type": "code",
   "execution_count": 1,
   "id": "471bf68b",
   "metadata": {},
   "outputs": [
    {
     "name": "stdout",
     "output_type": "stream",
     "text": [
      "55555\n",
      "55555\n",
      "55555\n",
      "55555\n",
      "55555\n"
     ]
    }
   ],
   "source": [
    "n=int(input())\n",
    "i=0\n",
    "while i!=n:\n",
    "    j=0\n",
    "    while j!=n:\n",
    "        print(str(n),end='')\n",
    "        j=j+1\n",
    "    print()\n",
    "    i=i+1"
   ]
  },
  {
   "cell_type": "code",
   "execution_count": 2,
   "id": "567a08a1",
   "metadata": {},
   "outputs": [
    {
     "name": "stdout",
     "output_type": "stream",
     "text": [
      "55555\n",
      "55555\n",
      "55555\n",
      "55555\n",
      "55555\n"
     ]
    }
   ],
   "source": [
    "n=int(input())\n",
    "s=str(n)\n",
    "while True:\n",
    "    s=s*n\n",
    "    p=0\n",
    "    while p!=n:\n",
    "        print(s)\n",
    "        p=p+1\n",
    "    break\n"
   ]
  },
  {
   "cell_type": "code",
   "execution_count": 47,
   "id": "15c4b41b",
   "metadata": {},
   "outputs": [
    {
     "name": "stdout",
     "output_type": "stream",
     "text": [
      "1\n"
     ]
    }
   ],
   "source": [
    "n=int(input())\n",
    "i=1\n",
    "while i<=n:\n",
    "    j=0\n",
    "    while j!=n:\n",
    "        print(i,end='')\n",
    "        j=j+1\n",
    "    print()\n",
    "    i=i+1\n"
   ]
  },
  {
   "cell_type": "code",
   "execution_count": 16,
   "id": "0a352bb3",
   "metadata": {},
   "outputs": [
    {
     "name": "stdout",
     "output_type": "stream",
     "text": [
      "12345\n",
      "12345\n",
      "12345\n",
      "12345\n",
      "12345\n"
     ]
    }
   ],
   "source": [
    "n=int(input())\n",
    "i=1\n",
    "while i<=n:\n",
    "    j=1\n",
    "    while j<=n:\n",
    "        u=n-j+1\n",
    "        print(j,end='')\n",
    "        j=j+1\n",
    "    print()\n",
    "    i=i+1\n"
   ]
  },
  {
   "cell_type": "code",
   "execution_count": 5,
   "id": "3642e733",
   "metadata": {},
   "outputs": [
    {
     "name": "stdout",
     "output_type": "stream",
     "text": [
      "1\n",
      "23\n",
      "345\n",
      "4567\n",
      "56789\n"
     ]
    }
   ],
   "source": [
    "n=int(input())\n",
    "i=1\n",
    "while i<=n:\n",
    "    j=1\n",
    "    p=i  #resets every column\n",
    "    while j<=i:\n",
    "        print(p,end='')\n",
    "        j=j+1\n",
    "        p=p+1\n",
    "    print()\n",
    "    i=i+1"
   ]
  },
  {
   "cell_type": "code",
   "execution_count": 6,
   "id": "7c26f31f",
   "metadata": {},
   "outputs": [
    {
     "name": "stdout",
     "output_type": "stream",
     "text": [
      "1\n",
      "22\n",
      "333\n",
      "4444\n",
      "55555\n"
     ]
    }
   ],
   "source": [
    "n=int(input())\n",
    "i=1\n",
    "while i<=n:\n",
    "    j=1\n",
    "    while j<=i:\n",
    "        print(i,end='')\n",
    "        j=j+1\n",
    "    print()\n",
    "    i=i+1"
   ]
  },
  {
   "cell_type": "code",
   "execution_count": 7,
   "id": "7905ca8c",
   "metadata": {},
   "outputs": [
    {
     "name": "stdout",
     "output_type": "stream",
     "text": [
      "1\n",
      "23\n",
      "456\n",
      "78910\n",
      "1112131415\n"
     ]
    }
   ],
   "source": [
    "n=int(input())\n",
    "i=1\n",
    "p=1  #resets every row\n",
    "while i<=n:\n",
    "    j=1\n",
    "    while j<=i:\n",
    "        print(p,end='')\n",
    "        j=j+1\n",
    "        p=p+1\n",
    "    print()\n",
    "    i=i+1"
   ]
  },
  {
   "cell_type": "code",
   "execution_count": 26,
   "id": "a5148842",
   "metadata": {},
   "outputs": [
    {
     "name": "stdout",
     "output_type": "stream",
     "text": [
      "1\n",
      "23\n",
      "345\n",
      "4567\n"
     ]
    }
   ],
   "source": [
    "n=int(input())\n",
    "i=1\n",
    "while i<=n:\n",
    "    j=1\n",
    "    p=i  #resets every column\n",
    "    while j<=i:\n",
    "        print(p,end='')\n",
    "        j=j+1\n",
    "        p=p+1\n",
    "    print()\n",
    "    i=i+1"
   ]
  },
  {
   "cell_type": "code",
   "execution_count": 29,
   "id": "cb94af16",
   "metadata": {},
   "outputs": [
    {
     "name": "stdout",
     "output_type": "stream",
     "text": [
      "D\n",
      "DD\n",
      "DDD\n",
      "DDDD\n"
     ]
    }
   ],
   "source": [
    "n=int(input())\n",
    "i=1\n",
    "while i<=n:\n",
    "    j=1\n",
    "    asc=ord('A')\n",
    "    while j<=i:\n",
    "        print(p,end='')\n",
    "        j=j+1\n",
    "        asc=asc+1\n",
    "    print()\n",
    "    i=i+1\n"
   ]
  },
  {
   "cell_type": "code",
   "execution_count": 30,
   "id": "51d1e381",
   "metadata": {},
   "outputs": [
    {
     "name": "stdout",
     "output_type": "stream",
     "text": [
      "A\n",
      "AB\n",
      "ABC\n",
      "ABCD\n"
     ]
    }
   ],
   "source": [
    "n=int(input())\n",
    "asc=ord('A')\n",
    "i=1\n",
    "while i<=n:\n",
    "    j=1\n",
    "    while j<=n:\n",
    "        pp=asc+j-1\n",
    "        p=chr(pp)\n",
    "        print(p,end='')\n",
    "        j=j+1\n",
    "    print()\n",
    "    i=i+1\n",
    "\n"
   ]
  },
  {
   "cell_type": "code",
   "execution_count": 52,
   "id": "2c2b2d0d",
   "metadata": {},
   "outputs": [
    {
     "name": "stdout",
     "output_type": "stream",
     "text": [
      "D\n",
      "EF\n",
      "FGH\n",
      "GHIJ\n"
     ]
    }
   ],
   "source": [
    "n=int(input())\n",
    "i=1\n",
    "while i<=n:\n",
    "    j=1\n",
    "    asc=65+n-1\n",
    "    while j<=i:\n",
    "        pp=asc+i-1\n",
    "        p=chr(pp+j-1)\n",
    "        print(p,end='')\n",
    "        j+=1\n",
    "    print()\n",
    "    asc+=1\n",
    "    i+=1\n",
    "\n"
   ]
  },
  {
   "cell_type": "code",
   "execution_count": 7,
   "id": "95df679d",
   "metadata": {},
   "outputs": [
    {
     "name": "stdout",
     "output_type": "stream",
     "text": [
      "E\n",
      "DE\n",
      "CDE\n",
      "BCDE\n",
      "ABCDE\n"
     ]
    }
   ],
   "source": [
    "n=int(input())\n",
    "for i in range (n,0,-1):\n",
    "    for j in range(i-1,n):\n",
    "        print(chr(j+65),end=\"\")\n",
    "    print()\n"
   ]
  },
  {
   "cell_type": "code",
   "execution_count": 46,
   "id": "30076e0a",
   "metadata": {},
   "outputs": [
    {
     "name": "stdout",
     "output_type": "stream",
     "text": [
      "E\n",
      "EF\n",
      "EFG\n",
      "EFGH\n",
      "EFGHI\n"
     ]
    }
   ],
   "source": [
    "n=int(input())\n",
    "i=1\n",
    "while i<=n:\n",
    "    j=1\n",
    "    ch=ord('A')+n-j\n",
    "    while j<=i:\n",
    "        print(chr(ch+j-1),end='')\n",
    "        j+=1\n",
    "    print()\n",
    "    i+=1"
   ]
  },
  {
   "cell_type": "code",
   "execution_count": 56,
   "id": "07980330",
   "metadata": {},
   "outputs": [
    {
     "name": "stdout",
     "output_type": "stream",
     "text": [
      "1\n",
      "11\n",
      "111\n",
      "1111\n"
     ]
    }
   ],
   "source": [
    "n=int(input())\n",
    "i=1\n",
    "while i<=n:\n",
    "    j=1\n",
    "    while j<=i:\n",
    "        print('1',end='')\n",
    "        j+=1\n",
    "    print()\n",
    "    i+=1\n",
    "\n"
   ]
  },
  {
   "cell_type": "code",
   "execution_count": 60,
   "id": "3adb0c13",
   "metadata": {},
   "outputs": [
    {
     "name": "stdout",
     "output_type": "stream",
     "text": [
      "1\n",
      "11\n",
      "202\n",
      "3003\n",
      "40004\n"
     ]
    }
   ],
   "source": [
    "n=int(input())\n",
    "i=1\n",
    "while i<=n:\n",
    "    j=1\n",
    "    while j<=i:\n",
    "        if i==1:                                                                                         \n",
    "            print(1,end='')\n",
    "        elif j==1 or j==i:\n",
    "            print(i-1,end ='')   \n",
    "        else:\n",
    "            print(0,end='')\n",
    "        j+=1\n",
    "    print()\n",
    "    i+=1"
   ]
  },
  {
   "cell_type": "code",
   "execution_count": 62,
   "id": "5048c132",
   "metadata": {},
   "outputs": [
    {
     "name": "stdout",
     "output_type": "stream",
     "text": [
      "1\n",
      "11\n",
      "121\n",
      "1221\n",
      "12221\n"
     ]
    }
   ],
   "source": [
    "n=int(input())\n",
    "i=1\n",
    "while i<=n:\n",
    "    j=1\n",
    "    while j<=i:\n",
    "        if i==1:                                                                                         \n",
    "            print(1,end='')\n",
    "        elif j==1 or j==i:\n",
    "            print(1,end ='')   \n",
    "        else:\n",
    "            print(2,end='')\n",
    "        j+=1\n",
    "    print()\n",
    "    i+=1"
   ]
  },
  {
   "cell_type": "code",
   "execution_count": 7,
   "id": "d376b786",
   "metadata": {},
   "outputs": [
    {
     "name": "stdout",
     "output_type": "stream",
     "text": [
      "55555\n",
      "4444\n",
      "333\n",
      "22\n",
      "1\n"
     ]
    }
   ],
   "source": [
    "n=int(input())\n",
    "i=1\n",
    "while i<=n:\n",
    "    j=1\n",
    "    while j<=n-i+1:                                                                                \n",
    "        print(n-i+1,end ='')            \n",
    "        j=j+1\n",
    "    print()\n",
    "    i=i+1"
   ]
  },
  {
   "cell_type": "code",
   "execution_count": 64,
   "id": "d797e76a",
   "metadata": {},
   "outputs": [
    {
     "name": "stdout",
     "output_type": "stream",
     "text": [
      "A\n",
      "BB\n",
      "CCC\n",
      "DDDD\n",
      "EEEEE\n"
     ]
    }
   ],
   "source": [
    "n=int(input())\n",
    "i=1\n",
    "while i<=n:\n",
    "    j=1\n",
    "    while j<=i:\n",
    "        ch=chr(ord('A')+i-1)\n",
    "        print(ch,end='')            \n",
    "        j=j+1\n",
    "    print()\n",
    "    i=i+1"
   ]
  },
  {
   "cell_type": "code",
   "execution_count": 19,
   "id": "220972af",
   "metadata": {},
   "outputs": [
    {
     "name": "stdout",
     "output_type": "stream",
     "text": [
      "Given Weight 40\n",
      "No Restriction\n"
     ]
    }
   ],
   "source": [
    "weight=int(input('Enter weight : '))\n",
    "print('Given Weight {}'.format(weight))\n",
    "if weight>=70:\n",
    "    print('No Food')\n",
    "elif weight<=60 and weight>50:\n",
    "    print('200g')\n",
    "elif weight<=50 and weight>40:\n",
    "    print('300g')\n",
    "elif weight<=40:\n",
    "    print('No Restriction')\n"
   ]
  },
  {
   "cell_type": "code",
   "execution_count": 25,
   "id": "c30a2095",
   "metadata": {},
   "outputs": [
    {
     "name": "stdout",
     "output_type": "stream",
     "text": [
      "45\n"
     ]
    }
   ],
   "source": [
    "n=int(input())\n",
    "i=1\n",
    "j=0\n",
    "while (i<=n):\n",
    "    j=j+i\n",
    "    i+=1\n",
    "print(j)"
   ]
  },
  {
   "cell_type": "code",
   "execution_count": 2,
   "id": "55e3c547",
   "metadata": {},
   "outputs": [
    {
     "name": "stdout",
     "output_type": "stream",
     "text": [
      "OK\n"
     ]
    }
   ],
   "source": [
    "x=input()\n",
    "c=True\n",
    "for i in range (len(x)):\n",
    "    if x[i]!=x[~i]:\n",
    "        c=False\n",
    "        break\n",
    "if c:\n",
    "    print('OK')\n",
    "else:\n",
    "    print('Not OK')"
   ]
  },
  {
   "cell_type": "markdown",
   "id": "9ea6369c",
   "metadata": {},
   "source": [
    "Patterns 2"
   ]
  },
  {
   "cell_type": "code",
   "execution_count": 7,
   "id": "f83d53fd",
   "metadata": {},
   "outputs": [
    {
     "name": "stdout",
     "output_type": "stream",
     "text": [
      "*****\n",
      "****\n",
      "***\n",
      "**\n",
      "*\n"
     ]
    }
   ],
   "source": [
    "n=int(input())\n",
    "i=1\n",
    "while i<=n:\n",
    "    j=1\n",
    "    while j<=n-i+1:\n",
    "        print('*',end='')\n",
    "        j+=1\n",
    "    print()\n",
    "    i+=1"
   ]
  },
  {
   "cell_type": "code",
   "execution_count": 34,
   "id": "5f17714b",
   "metadata": {},
   "outputs": [
    {
     "name": "stdout",
     "output_type": "stream",
     "text": [
      "    1\n",
      "   121\n",
      "  12321\n",
      " 1234321\n",
      "123454321\n"
     ]
    }
   ],
   "source": [
    "n=int(input())\n",
    "i=1\n",
    "while i<=n:\n",
    "    s=1\n",
    "    while s<=n-i:\n",
    "        print(' ',end='')\n",
    "        s+=1\n",
    "    p=1\n",
    "    j=1\n",
    "    while j<=i:\n",
    "        print(p,end='')\n",
    "        j+=1\n",
    "        p+=1\n",
    "    p=i-1\n",
    "    while p>=1:\n",
    "        print(p,end='')\n",
    "        p-=1\n",
    "    print()\n",
    "    i+=1"
   ]
  },
  {
   "cell_type": "code",
   "execution_count": 40,
   "id": "3196a5fc",
   "metadata": {},
   "outputs": [
    {
     "name": "stdout",
     "output_type": "stream",
     "text": [
      "    1\n",
      "   232\n",
      "  34543\n",
      " 4567654\n",
      "567898765\n"
     ]
    }
   ],
   "source": [
    "n=int(input())\n",
    "i=1\n",
    "while i<=n:\n",
    "    s=1\n",
    "    while s<=n-i:\n",
    "        print(\" \",end=\"\")\n",
    "        s+=1\n",
    "    j=1\n",
    "    p=i\n",
    "    while j<=i:\n",
    "        print(p,end=\"\")\n",
    "        p+=1\n",
    "        j+=1\n",
    "    j=1\n",
    "    p=2*i-2\n",
    "    while j<=i-1:\n",
    "        print(p,end=\"\")\n",
    "        p-=1\n",
    "        j+=1\n",
    "    print()\n",
    "    i+=1"
   ]
  },
  {
   "cell_type": "code",
   "execution_count": 41,
   "id": "2923d4e2",
   "metadata": {},
   "outputs": [
    {
     "name": "stdout",
     "output_type": "stream",
     "text": [
      "  *\n",
      " ***\n",
      "*****\n",
      " ***\n",
      "  *\n"
     ]
    }
   ],
   "source": [
    "n=int(input())\n",
    "top=(n+1)//2\n",
    "bott=(n)//2\n",
    "\n",
    "#First Half\n",
    "i=1\n",
    "while i<=top:\n",
    "    s=1\n",
    "    while s<=(top-i):\n",
    "        print(' ',end=\"\")\n",
    "        s+=1\n",
    "    j=1\n",
    "    while j<=(2*i)-1:\n",
    "        print(\"*\",end=\"\")\n",
    "        j+=1\n",
    "    print()\n",
    "    i+=1\n",
    "\n",
    "#Secound Half\n",
    "i=bott\n",
    "while i>=1:\n",
    "    s=1\n",
    "    while s<=(bott-i+1):\n",
    "        print(\" \",end=\"\")\n",
    "        s+=1\n",
    "    j=1\n",
    "    while j<=(2*i)-1:\n",
    "        print(\"*\",end=\"\")\n",
    "        j+=1\n",
    "    print()\n",
    "    i-=1"
   ]
  },
  {
   "cell_type": "code",
   "execution_count": 44,
   "id": "c2ffb4ad",
   "metadata": {},
   "outputs": [
    {
     "name": "stdout",
     "output_type": "stream",
     "text": [
      "1        1\n",
      "12      21\n",
      "123    321\n",
      "1234  4321\n",
      "1234554321\n"
     ]
    }
   ],
   "source": [
    "n=int(input())\n",
    "k=n*2-2\n",
    "i=1\n",
    "while(i<=n):\n",
    "    j=1\n",
    "    while j<=i:\n",
    "        print(j,end='')\n",
    "        j=j+1\n",
    "    s=1\n",
    "    while s<=k:\n",
    "        print(' ',end=\"\")\n",
    "        s+=1\n",
    "    k-=2\n",
    "    j=i\n",
    "    while j>0:\n",
    "        print(j,end='')\n",
    "        j-=1\n",
    "    i+=1\n",
    "    print()"
   ]
  },
  {
   "cell_type": "code",
   "execution_count": 45,
   "id": "d0def7b7",
   "metadata": {},
   "outputs": [
    {
     "name": "stdout",
     "output_type": "stream",
     "text": [
      "*0000*0000*\n",
      "0*000*000*0\n",
      "00*00*00*00\n",
      "000*0*0*000\n",
      "0000***0000\n"
     ]
    }
   ],
   "source": [
    "n=int(input())\n",
    "s=1\n",
    "e=2*n+1\n",
    "m=n+1\n",
    "i=1\n",
    "while(i<=n):\n",
    "    j=1\n",
    "    while j<=(2*n+1):\n",
    "        if j==s or j==e or j==m:\n",
    "            print(\"*\",end='')\n",
    "        else:\n",
    "            print(\"0\",end=\"\")\n",
    "        j=j+1\n",
    "    s=s+1\n",
    "    e=e-1\n",
    "    i=i+1\n",
    "    print()"
   ]
  },
  {
   "cell_type": "code",
   "execution_count": 46,
   "id": "7339d96d",
   "metadata": {},
   "outputs": [
    {
     "name": "stdout",
     "output_type": "stream",
     "text": [
      "    1\n",
      "   212\n",
      "  32123\n",
      " 4321234\n",
      "543212345\n"
     ]
    }
   ],
   "source": [
    "n = int(input())\n",
    "i = 1\n",
    "s = n - 1\n",
    "for j in range(1, n + 1):\n",
    "    i = j\n",
    "    for k in range(1, s + 1):\n",
    "        print(\" \", end=\"\")\n",
    "    s = s - 1\n",
    "\n",
    "    for k in range(1, j + 1):\n",
    "        print(i, end=\"\")\n",
    "        i-=1\n",
    "    i=2\n",
    "    for k in range(1, j):\n",
    "        print(i, end=\"\")\n",
    "        i+=1\n",
    "\n",
    "    print()"
   ]
  },
  {
   "cell_type": "code",
   "execution_count": 47,
   "id": "183b6c9c",
   "metadata": {},
   "outputs": [
    {
     "name": "stdout",
     "output_type": "stream",
     "text": [
      "* \n",
      " * * \n",
      "  * * * \n",
      " * * \n",
      "* \n"
     ]
    }
   ],
   "source": [
    "n = int(input())\n",
    "i = 1\n",
    "n1 = (n - 1) / 2\n",
    "n = (n + 1) / 2\n",
    "while i <= n:\n",
    "    spaces = 2\n",
    "    while spaces <= i:\n",
    "        print(\" \", end=\"\")\n",
    "        spaces += 1\n",
    "    star = 1\n",
    "    while star <= i:\n",
    "        print(\"* \", end=\"\")\n",
    "        star += 1\n",
    "    print(\"\")\n",
    "    i = i + 1\n",
    "\n",
    "i = 1\n",
    "g = 0\n",
    "while i <= n1:\n",
    "    num_1 = n1 - 1\n",
    "    while num_1 >= i:\n",
    "        print(\" \", end=\"\")\n",
    "        num_1 -= 1\n",
    "\n",
    "    num_1 = n1 - 1\n",
    "    while num_1 >= g:\n",
    "        print(\"* \", end=\"\")\n",
    "        num_1 -= 1\n",
    "    print()\n",
    "    i = i + 1\n",
    "    g = g + 1"
   ]
  },
  {
   "cell_type": "markdown",
   "id": "aece7e96",
   "metadata": {},
   "source": [
    "Loops"
   ]
  },
  {
   "cell_type": "code",
   "execution_count": 71,
   "id": "c7eb9a05",
   "metadata": {},
   "outputs": [],
   "source": [
    "n=int(input())\n",
    "i=1\n",
    "while i<=n:\n",
    "    print('3 x',i,'=',i*3)\n",
    "    i=i+1"
   ]
  }
 ],
 "metadata": {
  "kernelspec": {
   "display_name": "Python 3.10.7 64-bit (microsoft store)",
   "language": "python",
   "name": "python3"
  },
  "language_info": {
   "codemirror_mode": {
    "name": "ipython",
    "version": 3
   },
   "file_extension": ".py",
   "mimetype": "text/x-python",
   "name": "python",
   "nbconvert_exporter": "python",
   "pygments_lexer": "ipython3",
   "version": "3.10.8"
  },
  "vscode": {
   "interpreter": {
    "hash": "cde863bc7cf210e6ac261459ce91b5eb1caa9f4f90b697e3ad9dc04fa707f48f"
   }
  }
 },
 "nbformat": 4,
 "nbformat_minor": 5
}
